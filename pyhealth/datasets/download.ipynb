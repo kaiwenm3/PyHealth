{
  "nbformat": 4,
  "nbformat_minor": 0,
  "metadata": {
    "colab": {
      "provenance": []
    },
    "kernelspec": {
      "name": "python3",
      "display_name": "Python 3"
    },
    "language_info": {
      "name": "python"
    }
  },
  "cells": [
    {
      "cell_type": "code",
      "source": [
        "from google.colab import drive\n",
        "drive.mount('/content/drive')"
      ],
      "metadata": {
        "colab": {
          "base_uri": "https://localhost:8080/"
        },
        "id": "dJ3-FOaDoP6s",
        "outputId": "4bd71269-f91b-4cae-ff8d-a315beb4d48c"
      },
      "execution_count": null,
      "outputs": [
        {
          "output_type": "stream",
          "name": "stdout",
          "text": [
            "Mounted at /content/drive\n"
          ]
        }
      ]
    },
    {
      "cell_type": "code",
      "source": [
        "import os\n",
        "os.chdir('/content/drive/My Drive/cs598_project/data/PTBXL')"
      ],
      "metadata": {
        "id": "O9sv3yvm5ppA"
      },
      "execution_count": null,
      "outputs": []
    },
    {
      "cell_type": "code",
      "source": [
        "!wget -r -N -c -np https://physionet.org/files/ptb-xl/1.0.3/"
      ],
      "metadata": {
        "id": "U_JTBJtb6UlV",
        "collapsed": true
      },
      "execution_count": null,
      "outputs": []
    },
    {
      "cell_type": "code",
      "source": [
        "#the other dataset can be downloaded with https://www.kaggle.com/datasets/bjoernjostein/georgia-12lead-ecg-challenge-database?resource=download"
      ],
      "metadata": {
        "id": "hvmozogJ7DEA"
      },
      "execution_count": null,
      "outputs": []
    }
  ]
}